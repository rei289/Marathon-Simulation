{
 "cells": [
  {
   "cell_type": "markdown",
   "id": "89bc6447",
   "metadata": {},
   "source": [
    "# Data Analysis\n",
    "This notebook is used to analyze the data collected from live runs. It includes various visualizations and statistical analyses to understand the performance of the runner\n",
    "\n",
    "## TOC:\n",
    "### [Feature Engineering](#tests-for-feature-engineering)\n",
    "### [Exploratory Data Analysis (EDA)](#exploratory-data-analysis-eda)\n",
    "* [Performance from Specific Runs](#performance-from-specific-runs)\n",
    "* [Pearsons Correlation Matrix for Specific Runs](#pearsons-correlation-matrix-for-specific-runs)\n",
    "* [Variance Inflation Factor (VIF)](#variance-inflation-factor-vif)\n",
    "* [Rolling Windowed Correlation](#rolling-windowed-correlation)\n",
    "* [Multivariate Regression](#multivariate-regression)"
   ]
  },
  {
   "cell_type": "code",
   "execution_count": null,
   "id": "162281f9",
   "metadata": {},
   "outputs": [],
   "source": [
    "from utilis.helper import *\n",
    "import matplotlib.pyplot as plt\n",
    "import pandas as pd\n",
    "import numpy as np\n",
    "output_folder = extract_global_json(\"output_folder\")\n"
   ]
  },
  {
   "cell_type": "markdown",
   "id": "a711bd44",
   "metadata": {},
   "source": [
    "## Cleaning data\n",
    "This section is used to clean the data before analysis. It includes removing unnecessary columns, handling missing values, and converting data types."
   ]
  },
  {
   "cell_type": "code",
   "execution_count": null,
   "id": "73a68a68",
   "metadata": {},
   "outputs": [],
   "source": [
    "# Show all rows\n",
    "pd.set_option('display.max_rows', None)\n",
    "\n",
    "# Show all columns\n",
    "pd.set_option('display.max_columns', None)\n",
    "\n",
    "# Optional: widen the display to avoid line wrapping\n",
    "pd.set_option('display.width', None)\n",
    "pd.set_option('display.max_colwidth', None)  # or a large int, e.g. 200\n",
    "\n",
    "# folder = \"2025-07-05_12-32\"\n",
    "# folder = \"2025-07-22_19-40\"\n",
    "# folder = \"2025-07-25_19-53\"\n",
    "# folder = \"2025-07-27_10-27\"\n",
    "# folder = \"2025-07-29_20-03\"\n",
    "# folder = \"2025-07-31_20-07\"\n",
    "folder = \"2025-08-02_18-02\"\n",
    "# folder = \"2025-08-04_20-02\"\n",
    "# loop through all folders in the output folder\n",
    "for folder_name in os.listdir(output_folder):\n",
    "    if folder in folder_name:\n",
    "        # first read the csv file\n",
    "        csv_file_path = os.path.join(output_folder, folder_name, f\"{folder_name}_streams.csv\")\n",
    "        json_file_path = os.path.join(output_folder, folder_name, f\"{folder_name}_overall.json\")\n",
    "\n",
    "        break\n",
    "# read the csv file\n",
    "data = pd.read_csv(csv_file_path)\n",
    "overall_data = extract_json(json_file_path)"
   ]
  },
  {
   "cell_type": "markdown",
   "id": "6b97472c",
   "metadata": {},
   "source": [
    "# Exploratory Data Analysis (EDA)\n",
    "This section will include various exploratory data analysis techniques to understand the data better, including visualizations and statistical summaries."
   ]
  },
  {
   "cell_type": "markdown",
   "id": "0883a2c7",
   "metadata": {},
   "source": [
    "### Performance from Specific Runs\n",
    "This section will focus on analyzing the performance from specific runs, including visualizations and statistical summaries."
   ]
  },
  {
   "cell_type": "code",
   "execution_count": null,
   "id": "78c568ba",
   "metadata": {},
   "outputs": [],
   "source": [
    "# x = \"altitude_m\"\n",
    "# x = \"altitude_change_m\"\n",
    "# y = \"pace_efficiency\"\n",
    "# y = \"stride_length_m\"\n",
    "y = \"heartrate_bpm\"\n",
    "# y = \"cadence_rpm\"\n",
    "\n",
    "# x = \"cadence_rpm\"\n",
    "# x = \"grade_percent\"\n",
    "x = \"time_s\"\n",
    "# y = \"altitude_m\"\n",
    "\n",
    "# x_list = []\n",
    "# y_list = []\n",
    "\n",
    "# get the time and cadence columns\n",
    "x_data = data[x]\n",
    "y_data = data[y]\n",
    "\n",
    "# plot this data\n",
    "plt.figure(figsize=(10, 6))\n",
    "plt.scatter(x_data, y_data, label=folder_name)\n",
    "# plt.plot(x_data, y_data, label=folder_name)\n",
    "plt.xlabel(x)\n",
    "plt.ylabel(y)\n",
    "plt.title(f\"{y} vs {x} for {folder_name}\")\n",
    "plt.show()"
   ]
  },
  {
   "cell_type": "markdown",
   "id": "8ee0914a",
   "metadata": {},
   "source": [
    "### Pearsons Correlation Matrix for Specific Runs"
   ]
  },
  {
   "cell_type": "code",
   "execution_count": null,
   "id": "2384475a",
   "metadata": {},
   "outputs": [],
   "source": [
    "# Exploratory Data Analysis (EDA)\n",
    "analyzable_columns = [\n",
    "    \"time_s\",\n",
    "    \"pace_efficiency\",\n",
    "    \"heartrate_bpm\",\n",
    "    \"diff_heartrate_bpm\",\n",
    "    \"diff_heartrate_shift_bpm\",\n",
    "    \"velocity_mps\", \n",
    "    \"acceleration_mps2\",\n",
    "    \"acceleration_shift_mps2\",\n",
    "    \"altitude_m\",\n",
    "    \"diff_altitude_m\",\n",
    "    \"stride_length_m\", \n",
    "    \"cadence_rpm\", \n",
    "    \"headwind_mps\", \n",
    "    \"crosswind_mps\", \n",
    "    # \"athletedir_degree\", \n",
    "    # \"relative_winddir_degree\", \n",
    "    \"grade_percent\"\n",
    "]\n",
    "corr_matrix = data[analyzable_columns].corr()\n",
    "\n",
    "# Show correlation matrix\n",
    "plt.figure(figsize=(10, 8))\n",
    "plt.imshow(corr_matrix, cmap='coolwarm', interpolation='nearest', vmin=-1, vmax=1)\n",
    "for i in range(len(analyzable_columns)):\n",
    "    for j in range(len(analyzable_columns)):\n",
    "        plt.text(j, i, f\"{corr_matrix.iloc[i, j]:.2f}\", ha=\"center\", va=\"center\", color=\"black\")\n",
    "plt.colorbar()\n",
    "# plt.xticks(range(len(analyzable_columns)), analyzable_columns, rotation=30)\n",
    "plt.xticks(range(len(analyzable_columns)), analyzable_columns, rotation=90)\n",
    "plt.yticks(range(len(analyzable_columns)), analyzable_columns)\n",
    "plt.title(f\"Pearson Correlation Matrix for {folder_name}\")\n",
    "plt.tight_layout()\n",
    "plt.show()\n",
    "# data"
   ]
  },
  {
   "cell_type": "markdown",
   "id": "c88d97f3",
   "metadata": {},
   "source": [
    "### Variance Inflation Factor (VIF)\n",
    "This section will calculate the Variance Inflation Factor (VIF) for the features in the dataset to check for multicollinearity."
   ]
  },
  {
   "cell_type": "code",
   "execution_count": null,
   "id": "aafc4c1e",
   "metadata": {},
   "outputs": [],
   "source": [
    "from statsmodels.stats.outliers_influence import variance_inflation_factor\n",
    "import pandas as pd\n",
    "from statsmodels.api import add_constant\n",
    "\n",
    "# only look at numerical columns for VIF\n",
    "data_numerical = data.select_dtypes(include=[float, int])\n",
    "\n",
    "# Assuming X is your design matrix with a constant added\n",
    "X = add_constant(data_numerical)  # df = your feature DataFrame\n",
    "# X = add_constant(data_numerical.drop(columns=[\"pace_efficiency\"]))  # df = your feature DataFrame\n",
    "vif = pd.DataFrame()\n",
    "vif[\"feature\"] = X.columns\n",
    "# data_numerical\n",
    "vif[\"VIF\"] = [int(variance_inflation_factor(X.values, i)) for i in range(X.shape[1])]\n",
    "print(vif)"
   ]
  },
  {
   "cell_type": "markdown",
   "id": "32fe2fb2",
   "metadata": {},
   "source": [
    "### Rolling Windowed Correlation"
   ]
  },
  {
   "cell_type": "code",
   "execution_count": null,
   "id": "4bba728a",
   "metadata": {},
   "outputs": [],
   "source": [
    "# Assuming df has columns 'heart_rate' and 'headwind'\n",
    "window_size = 30  # e.g., 60 time steps\n",
    "# rolling_corr = data['heartrate_bpm'].rolling(window=window_size).corr(data['distance_m'])\n",
    "# rolling_corr = data['heartrate_bpm'].rolling(window=window_size).corr(data['headwind_mps'])\n",
    "# rolling_corr = data['heartrate_bpm'].rolling(window=window_size).corr(data['time_s'])\n",
    "rolling_corr = data['heartrate_bpm'].rolling(window=window_size).corr(data['altitude_m'])\n",
    "rolling_corr.plot(title=\"Rolling Correlation: Heart Rate vs Headwind\", figsize=(12, 6), ylabel='Correlation Coefficient', xlabel='Time Steps')"
   ]
  },
  {
   "cell_type": "markdown",
   "id": "fdbeb9c6",
   "metadata": {},
   "source": [
    "## Model Analysis\n",
    "This section will include various models to predict the differential of heart rate and speed based on the features. It will include different regression models and their performance metrics."
   ]
  },
  {
   "cell_type": "markdown",
   "id": "bb091928",
   "metadata": {},
   "source": [
    "### Multivariate Regression"
   ]
  },
  {
   "cell_type": "code",
   "execution_count": null,
   "id": "97c8ce23",
   "metadata": {},
   "outputs": [],
   "source": [
    "from statsmodels.api import OLS, add_constant\n",
    "\n",
    "analyzable_columns = [\n",
    "    # \"time_s\",\n",
    "    \"distance_m\",\n",
    "    \"pace_efficiency\",\n",
    "    \"heartrate_bpm\",\n",
    "    \"altitude_m\",\n",
    "    \"diff_altitude_m\",\n",
    "    # \"stride_length_m\", \n",
    "    \"velocity_mps\", \n",
    "    # \"cadence_rpm\", \n",
    "    \"headwind_mps\", \n",
    "    \"crosswind_mps\", \n",
    "    # \"athletedir_degree\", \n",
    "    # \"relative_winddir_degree\", \n",
    "    \"grade_percent\"\n",
    "]\n",
    "\n",
    "# test exponential regression\n",
    "\n",
    "# x = data[\"grade_percent\"]\n",
    "x = data[analyzable_columns]\n",
    "# y = data['pace_efficiency']\n",
    "# y = data['diff_pace_efficiency']\n",
    "# y = data['acceleration_mps2']\n",
    "# y = data['acceleration_shift_mps2']\n",
    "y = data['diff_heartrate_bpm']\n",
    "# y = data[\"diff_heartrate_shift_bpm\"]\n",
    "X = add_constant(x)\n",
    "\n",
    "model = OLS(y, X).fit()\n",
    "# print(model.summary())\n"
   ]
  },
  {
   "cell_type": "markdown",
   "id": "a632b986",
   "metadata": {},
   "source": []
  },
  {
   "cell_type": "code",
   "execution_count": null,
   "id": "5071dc8c",
   "metadata": {},
   "outputs": [],
   "source": [
    "# Elastic Net Regression\n",
    "from sklearn.linear_model import ElasticNet\n",
    "\n",
    "# Define the model\n",
    "model = ElasticNet(alpha=0.01, l1_ratio=0.5, max_iter=10000)  # Adjust alpha and l1_ratio as needed\n",
    "# Fit the model\n",
    "model.fit(x, y)\n",
    "# predict pace efficiency based on the model\n",
    "y_pred = model.predict(x)\n",
    "\n",
    "print(model.score(x, y))\n",
    "# # Plot the data and the fitted line\n",
    "plt.figure(figsize=(10, 6))\n",
    "plt.plot(data[\"distance_m\"], y, label='Data Points')\n",
    "# plt.scatter(data[\"distance_m\"], y, label='Data Points')\n",
    "plt.plot(data[\"distance_m\"], y_pred, color='red', label='Fitted Line')"
   ]
  },
  {
   "cell_type": "code",
   "execution_count": null,
   "id": "c5572bf9",
   "metadata": {},
   "outputs": [],
   "source": [
    "# predict pace efficiency based on the model\n",
    "y_pred = model.predict(X)\n",
    "# # Plot the data and the fitted line\n",
    "plt.figure(figsize=(10, 6))\n",
    "plt.plot(data[\"distance_m\"], y, label='Data Points')\n",
    "# plt.scatter(data[\"distance_m\"], y, label='Data Points')\n",
    "plt.plot(data[\"distance_m\"], y_pred, color='red', label='Fitted Line')"
   ]
  }
 ],
 "metadata": {
  "kernelspec": {
   "display_name": "venv",
   "language": "python",
   "name": "python3"
  },
  "language_info": {
   "codemirror_mode": {
    "name": "ipython",
    "version": 3
   },
   "file_extension": ".py",
   "mimetype": "text/x-python",
   "name": "python",
   "nbconvert_exporter": "python",
   "pygments_lexer": "ipython3",
   "version": "3.12.10"
  }
 },
 "nbformat": 4,
 "nbformat_minor": 5
}
